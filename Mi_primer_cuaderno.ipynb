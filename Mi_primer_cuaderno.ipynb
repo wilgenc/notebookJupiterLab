{
 "cells": [
  {
   "cell_type": "markdown",
   "metadata": {
    "id": "hJnhrrsMLLgM"
   },
   "source": [
    "# La nostalgia del melomano\n"
   ]
  },
  {
   "cell_type": "markdown",
   "metadata": {
    "id": "MDQV7YIKNwqK"
   },
   "source": [
    "\n",
    "Este es mi libro favorito (al menos de los mas recientes)\n",
    "\n",
    "[Venta en amazon](https://www.amazon.com/-/es/Juan-Carlos-Garay/dp/9587045025)\n",
    "\n",
    "[Como aprender markdown](https://markdown.es/)\n",
    "\n",
    "![La nostalgia](https://www.semana.com/resizer/uOhwFc6QzuvHBPao_48JgSbrQYw=/1200x675/filters:format(jpg):quality(50)//cloudfront-us-east-1.images.arcpublishing.com/semana/G7VWGXHEXFHV7MTXBB76ONHGDU.png)\n",
    "\n",
    "***Que tu nuncas etc... ir escuchando una nota***\n",
    "\n",
    "\n",
    "> Ese dia no viniste\n",
    "\n",
    "\n"
   ]
  },
  {
   "cell_type": "markdown",
   "metadata": {
    "id": "dGy5ULNWYoJH"
   },
   "source": [
    "# Lenguaje LaTex"
   ]
  },
  {
   "cell_type": "markdown",
   "metadata": {
    "id": "WIdO36PzYs7u"
   },
   "source": [
    "Se usa para colocar ecuaciones matem[aticas de forma profesional...\n",
    "\n",
    "Este es el lenguae estandar usados por la mayoria de los cientificos del mundo\n",
    "\n",
    "$$y=x^2$$\n",
    "\n",
    "$$\\frac{dC}{dt}=kC$$\n",
    "\n",
    "\n",
    "como  colocar un video en markdown tarea!!!!\n"
   ]
  },
  {
   "cell_type": "code",
   "execution_count": 1,
   "metadata": {
    "colab": {
     "base_uri": "https://localhost:8080/"
    },
    "id": "t8GCMaW1LVNI",
    "outputId": "5a836ce3-5067-44df-ce44-0e4501d7142e"
   },
   "outputs": [
    {
     "name": "stdout",
     "output_type": "stream",
     "text": [
      "Hola amigo\n"
     ]
    }
   ],
   "source": [
    "print(\"Hola amigo\")"
   ]
  },
  {
   "cell_type": "markdown",
   "metadata": {
    "id": "0x5VZh6ncUSK"
   },
   "source": [
    "# Mas datos"
   ]
  },
  {
   "cell_type": "code",
   "execution_count": null,
   "metadata": {},
   "outputs": [],
   "source": []
  }
 ],
 "metadata": {
  "colab": {
   "name": "Mi primer cuaderno.ipynb",
   "provenance": [],
   "toc_visible": true
  },
  "gpuClass": "standard",
  "kernelspec": {
   "display_name": "Python 3",
   "language": "python",
   "name": "python3"
  },
  "language_info": {
   "codemirror_mode": {
    "name": "ipython",
    "version": 3
   },
   "file_extension": ".py",
   "mimetype": "text/x-python",
   "name": "python",
   "nbconvert_exporter": "python",
   "pygments_lexer": "ipython3",
   "version": "3.8.5"
  }
 },
 "nbformat": 4,
 "nbformat_minor": 4
}
